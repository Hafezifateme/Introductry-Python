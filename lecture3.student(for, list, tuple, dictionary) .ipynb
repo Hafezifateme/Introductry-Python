{
 "cells": [
  {
   "cell_type": "markdown",
   "metadata": {},
   "source": [
    "<div class=\"alert alert-info\">\n",
    "    <h1 align=\"center\">introductry python</h1> \n",
    "    <h3 align=\"center\"> lecture 3(Winter 2023)</h3>\n",
    "    <h5 align=\"center\">Fatemeh Hafezianzade [IP2023]</h5>\n",
    "</div>"
   ]
  },
  {
   "cell_type": "markdown",
   "metadata": {},
   "source": [
    "### Data structures in python"
   ]
  },
  {
   "cell_type": "markdown",
   "metadata": {},
   "source": [
    "- **List:** A sequence of items.\n",
    "- **Tuple:** like list, but it is *immutable*.\n",
    "- **Set:** A collection of distinct items in which the order in not important.\n",
    "- **Dictinary:** A list of (key, value) pairs."
   ]
  },
  {
   "cell_type": "code",
   "execution_count": 4,
   "metadata": {},
   "outputs": [
    {
     "data": {
      "text/plain": [
       "[1, 2, 3]"
      ]
     },
     "execution_count": 4,
     "metadata": {},
     "output_type": "execute_result"
    }
   ],
   "source": [
    "list_1D=[1,2,3,4,5,6]\n",
    "list_1D[:3]"
   ]
  },
  {
   "cell_type": "code",
   "execution_count": 14,
   "metadata": {},
   "outputs": [
    {
     "data": {
      "text/plain": [
       "[2, 3]"
      ]
     },
     "execution_count": 14,
     "metadata": {},
     "output_type": "execute_result"
    }
   ],
   "source": [
    "list_2D=[[1,2],[2,3],[3,4],[4,5],[5,6],[6,7]]\n",
    "list_2D[0:3][1]"
   ]
  },
  {
   "cell_type": "code",
   "execution_count": 15,
   "metadata": {},
   "outputs": [
    {
     "data": {
      "text/plain": [
       "array([[1, 2],\n",
       "       [2, 3],\n",
       "       [3, 4],\n",
       "       [4, 5],\n",
       "       [5, 6],\n",
       "       [6, 7]])"
      ]
     },
     "execution_count": 15,
     "metadata": {},
     "output_type": "execute_result"
    }
   ],
   "source": [
    "import numpy as np\n",
    "np.array(list_2D)"
   ]
  },
  {
   "cell_type": "code",
   "execution_count": null,
   "metadata": {},
   "outputs": [],
   "source": []
  },
  {
   "cell_type": "code",
   "execution_count": null,
   "metadata": {},
   "outputs": [],
   "source": []
  },
  {
   "cell_type": "code",
   "execution_count": null,
   "metadata": {},
   "outputs": [],
   "source": []
  },
  {
   "cell_type": "markdown",
   "metadata": {},
   "source": [
    "# list"
   ]
  },
  {
   "cell_type": "code",
   "execution_count": null,
   "metadata": {},
   "outputs": [],
   "source": []
  },
  {
   "cell_type": "code",
   "execution_count": null,
   "metadata": {},
   "outputs": [],
   "source": []
  },
  {
   "cell_type": "code",
   "execution_count": null,
   "metadata": {},
   "outputs": [],
   "source": []
  },
  {
   "cell_type": "code",
   "execution_count": null,
   "metadata": {},
   "outputs": [],
   "source": []
  },
  {
   "cell_type": "code",
   "execution_count": null,
   "metadata": {},
   "outputs": [],
   "source": []
  },
  {
   "cell_type": "code",
   "execution_count": null,
   "metadata": {},
   "outputs": [],
   "source": []
  },
  {
   "cell_type": "code",
   "execution_count": null,
   "metadata": {},
   "outputs": [],
   "source": []
  },
  {
   "cell_type": "markdown",
   "metadata": {},
   "source": [
    "# tuples"
   ]
  },
  {
   "cell_type": "code",
   "execution_count": 17,
   "metadata": {},
   "outputs": [
    {
     "name": "stdout",
     "output_type": "stream",
     "text": [
      "(1, 2, 3, 4)\n"
     ]
    }
   ],
   "source": [
    "Tuple=(1,2,3,4)\n",
    "print(Tuple)"
   ]
  },
  {
   "cell_type": "code",
   "execution_count": 20,
   "metadata": {},
   "outputs": [],
   "source": [
    "Tuple2=Tuple[0]*2"
   ]
  },
  {
   "cell_type": "code",
   "execution_count": null,
   "metadata": {},
   "outputs": [],
   "source": []
  },
  {
   "cell_type": "code",
   "execution_count": null,
   "metadata": {},
   "outputs": [],
   "source": []
  },
  {
   "cell_type": "markdown",
   "metadata": {},
   "source": [
    "# for \n",
    "\n",
    "- for i in [1,2,3,4,5]:\n",
    "- for i in range(1,244,2):\n",
    "- for i in \"python\"\n",
    "##### do sth"
   ]
  },
  {
   "cell_type": "code",
   "execution_count": 21,
   "metadata": {},
   "outputs": [
    {
     "name": "stdout",
     "output_type": "stream",
     "text": [
      "1\n",
      "2\n",
      "3\n",
      "4\n"
     ]
    }
   ],
   "source": [
    "for i in [1,2,3,4]:\n",
    "    print(i)"
   ]
  },
  {
   "cell_type": "code",
   "execution_count": 28,
   "metadata": {},
   "outputs": [
    {
     "name": "stdout",
     "output_type": "stream",
     "text": [
      "1\n"
     ]
    }
   ],
   "source": [
    "for i in range(1,100,100):\n",
    "    print(i)"
   ]
  },
  {
   "cell_type": "code",
   "execution_count": 30,
   "metadata": {},
   "outputs": [
    {
     "name": "stdout",
     "output_type": "stream",
     "text": [
      "w\n",
      "o\n",
      "r\n",
      " \n",
      "d\n"
     ]
    }
   ],
   "source": [
    "word='wor d'\n",
    "for letter in word:\n",
    "    print(letter)"
   ]
  },
  {
   "cell_type": "code",
   "execution_count": 45,
   "metadata": {},
   "outputs": [
    {
     "name": "stdout",
     "output_type": "stream",
     "text": [
      "1000\n",
      "0.00044083595275878906\n"
     ]
    }
   ],
   "source": [
    "import time\n",
    "\n",
    "list_1d=np.ones(1000)\n",
    "start_time=time.time()\n",
    "\n",
    "counter=0\n",
    "for i in list_1d:\n",
    "    if i==1:\n",
    "        counter+=1\n",
    "\n",
    "end_time= time.time()     \n",
    "print(counter) \n",
    "print(end_time-start_time)"
   ]
  },
  {
   "cell_type": "code",
   "execution_count": 48,
   "metadata": {},
   "outputs": [
    {
     "name": "stdout",
     "output_type": "stream",
     "text": [
      "1000\n",
      "0.0\n"
     ]
    }
   ],
   "source": [
    "list_1d_list=list(list_1d)\n",
    "start_time=time.time()\n",
    "counter=list_1d_list.count(1)  \n",
    "end_time= time.time()  \n",
    "print(counter) \n",
    "print(end_time-start_time)"
   ]
  },
  {
   "cell_type": "code",
   "execution_count": null,
   "metadata": {},
   "outputs": [],
   "source": []
  },
  {
   "cell_type": "code",
   "execution_count": null,
   "metadata": {},
   "outputs": [],
   "source": []
  },
  {
   "cell_type": "code",
   "execution_count": null,
   "metadata": {},
   "outputs": [],
   "source": []
  },
  {
   "cell_type": "code",
   "execution_count": 37,
   "metadata": {},
   "outputs": [
    {
     "name": "stdout",
     "output_type": "stream",
     "text": [
      "0.0\n",
      "0.01\n",
      "0.02\n",
      "0.03\n",
      "0.04\n",
      "0.05\n",
      "0.06\n",
      "0.07\n",
      "0.08\n",
      "0.09\n"
     ]
    }
   ],
   "source": [
    "for i in range(0,10):\n",
    "    print(i/100)"
   ]
  },
  {
   "cell_type": "code",
   "execution_count": 38,
   "metadata": {},
   "outputs": [
    {
     "data": {
      "text/plain": [
       "array([0.        , 0.01010101, 0.02020202, 0.03030303, 0.04040404,\n",
       "       0.05050505, 0.06060606, 0.07070707, 0.08080808, 0.09090909,\n",
       "       0.1010101 , 0.11111111, 0.12121212, 0.13131313, 0.14141414,\n",
       "       0.15151515, 0.16161616, 0.17171717, 0.18181818, 0.19191919,\n",
       "       0.2020202 , 0.21212121, 0.22222222, 0.23232323, 0.24242424,\n",
       "       0.25252525, 0.26262626, 0.27272727, 0.28282828, 0.29292929,\n",
       "       0.3030303 , 0.31313131, 0.32323232, 0.33333333, 0.34343434,\n",
       "       0.35353535, 0.36363636, 0.37373737, 0.38383838, 0.39393939,\n",
       "       0.4040404 , 0.41414141, 0.42424242, 0.43434343, 0.44444444,\n",
       "       0.45454545, 0.46464646, 0.47474747, 0.48484848, 0.49494949,\n",
       "       0.50505051, 0.51515152, 0.52525253, 0.53535354, 0.54545455,\n",
       "       0.55555556, 0.56565657, 0.57575758, 0.58585859, 0.5959596 ,\n",
       "       0.60606061, 0.61616162, 0.62626263, 0.63636364, 0.64646465,\n",
       "       0.65656566, 0.66666667, 0.67676768, 0.68686869, 0.6969697 ,\n",
       "       0.70707071, 0.71717172, 0.72727273, 0.73737374, 0.74747475,\n",
       "       0.75757576, 0.76767677, 0.77777778, 0.78787879, 0.7979798 ,\n",
       "       0.80808081, 0.81818182, 0.82828283, 0.83838384, 0.84848485,\n",
       "       0.85858586, 0.86868687, 0.87878788, 0.88888889, 0.8989899 ,\n",
       "       0.90909091, 0.91919192, 0.92929293, 0.93939394, 0.94949495,\n",
       "       0.95959596, 0.96969697, 0.97979798, 0.98989899, 1.        ])"
      ]
     },
     "execution_count": 38,
     "metadata": {},
     "output_type": "execute_result"
    }
   ],
   "source": [
    "np.linspace(0,1,100)"
   ]
  },
  {
   "cell_type": "code",
   "execution_count": null,
   "metadata": {},
   "outputs": [],
   "source": []
  },
  {
   "cell_type": "code",
   "execution_count": null,
   "metadata": {},
   "outputs": [],
   "source": [
    "import random\n",
    "\n",
    "random_num, count = random.randint(1, 10000), 0\n",
    "\n",
    "while True:\n",
    "\n",
    "  if random_num == count:\n",
    "\n",
    "    print('The secret number is {}!'.format(count))\n",
    "\n",
    "    print('It took {} cycles to find it.'.format(count + 1))\n",
    "\n",
    "    break\n",
    "\n",
    "  else:\n",
    "\n",
    "    print('{} is not the secret number'.format(count))\n",
    "\n",
    "    count += 1"
   ]
  },
  {
   "cell_type": "markdown",
   "metadata": {},
   "source": [
    "# nested loops:"
   ]
  },
  {
   "cell_type": "markdown",
   "metadata": {},
   "source": [
    "`for x in range(4):\n",
    "    for y in range(3):\n",
    "        print(f'({x},{y})')`"
   ]
  },
  {
   "cell_type": "code",
   "execution_count": null,
   "metadata": {},
   "outputs": [],
   "source": []
  },
  {
   "cell_type": "code",
   "execution_count": 55,
   "metadata": {},
   "outputs": [
    {
     "name": "stdout",
     "output_type": "stream",
     "text": [
      "Help on built-in function cos in module math:\n",
      "\n",
      "cos(x, /)\n",
      "    Return the cosine of x (measured in radians).\n",
      "\n"
     ]
    }
   ],
   "source": [
    "import math\n",
    "help(math.cos)"
   ]
  },
  {
   "cell_type": "markdown",
   "metadata": {},
   "source": [
    "# list methods: "
   ]
  },
  {
   "cell_type": "code",
   "execution_count": 59,
   "metadata": {},
   "outputs": [],
   "source": [
    "names=['razaghi.roya','Tavakkoli.Fateme','Jafari.Mahin','Rezaeinory.farzaneh',\n",
    "       'Ghomeshi.Morteza','Eskandari.Elham','Ataee.Aida','hafezianzade.mohammad','Abbasi.Sara']\n"
   ]
  },
  {
   "cell_type": "markdown",
   "metadata": {},
   "source": [
    "- number.append()\n",
    "- number.insert()\n",
    "- number.remove()\n",
    "- number.clear()\n",
    "- number.index(x)\n",
    "- x in number\n",
    "- number.count()\n",
    "- number.sort()\n",
    "- number.reverse()\n",
    "- number.copy()\n"
   ]
  },
  {
   "cell_type": "code",
   "execution_count": 58,
   "metadata": {},
   "outputs": [
    {
     "name": "stdout",
     "output_type": "stream",
     "text": [
      "['razaghi.roya', 'Tavakkoli.Fateme', 'Jafari.Mahin', 'Rezaeinory.farzaneh', 'Ghomeshi.Morteza', 'Eskandari.Elham', 'Ataee.Aida', 'hafezianzade.mohammad', 'Abbasi.Sara', 'Bagheri.Zahra', 'Bagheri.Zahra']\n"
     ]
    }
   ],
   "source": [
    "names.append('Bagheri.Zahra')\n",
    "print(names)"
   ]
  },
  {
   "cell_type": "code",
   "execution_count": 61,
   "metadata": {},
   "outputs": [
    {
     "name": "stdout",
     "output_type": "stream",
     "text": [
      "name:   ['roya', 'Fateme', 'Mahin', 'farzaneh', 'Morteza', 'Elham', 'Aida', 'mohammad', 'Sara']\n",
      "family:   ['razaghi', 'Tavakkoli', 'Jafari', 'Rezaeinory', 'Ghomeshi', 'Eskandari', 'Ataee', 'hafezianzade', 'Abbasi']\n"
     ]
    }
   ],
   "source": [
    "names=['razaghi.roya','Tavakkoli.Fateme','Jafari.Mahin','Rezaeinory.farzaneh',\n",
    "       'Ghomeshi.Morteza','Eskandari.Elham','Ataee.Aida','hafezianzade.mohammad','Abbasi.Sara']\n",
    "\n",
    "\n",
    "list_name=[]\n",
    "list_family=[]\n",
    "\n",
    "\n",
    "for name in names:\n",
    "    words=name.split(\".\")\n",
    "    \n",
    "    list_name.append(words[1])\n",
    "    list_family.append(words[0])\n",
    "\n",
    "print(\"name:  \",list_name)\n",
    "print(\"family:  \",list_family)"
   ]
  },
  {
   "cell_type": "code",
   "execution_count": null,
   "metadata": {},
   "outputs": [],
   "source": []
  },
  {
   "cell_type": "code",
   "execution_count": null,
   "metadata": {},
   "outputs": [],
   "source": []
  },
  {
   "cell_type": "code",
   "execution_count": null,
   "metadata": {},
   "outputs": [],
   "source": []
  },
  {
   "cell_type": "code",
   "execution_count": null,
   "metadata": {},
   "outputs": [],
   "source": []
  },
  {
   "cell_type": "code",
   "execution_count": null,
   "metadata": {},
   "outputs": [],
   "source": []
  },
  {
   "cell_type": "markdown",
   "metadata": {},
   "source": [
    "# dictionares:"
   ]
  },
  {
   "cell_type": "code",
   "execution_count": 62,
   "metadata": {},
   "outputs": [],
   "source": [
    "Dict={\n",
    "    \"name\":list_name,\n",
    "    \"family\":list_family\n",
    "     \n",
    "     }"
   ]
  },
  {
   "cell_type": "code",
   "execution_count": 64,
   "metadata": {},
   "outputs": [],
   "source": [
    "Dict['age']=2"
   ]
  },
  {
   "cell_type": "code",
   "execution_count": 65,
   "metadata": {},
   "outputs": [
    {
     "data": {
      "text/plain": [
       "{'name': ['roya',\n",
       "  'Fateme',\n",
       "  'Mahin',\n",
       "  'farzaneh',\n",
       "  'Morteza',\n",
       "  'Elham',\n",
       "  'Aida',\n",
       "  'mohammad',\n",
       "  'Sara'],\n",
       " 'family': ['razaghi',\n",
       "  'Tavakkoli',\n",
       "  'Jafari',\n",
       "  'Rezaeinory',\n",
       "  'Ghomeshi',\n",
       "  'Eskandari',\n",
       "  'Ataee',\n",
       "  'hafezianzade',\n",
       "  'Abbasi'],\n",
       " 'age': 2}"
      ]
     },
     "execution_count": 65,
     "metadata": {},
     "output_type": "execute_result"
    }
   ],
   "source": [
    "Dict={}"
   ]
  },
  {
   "cell_type": "code",
   "execution_count": 72,
   "metadata": {},
   "outputs": [
    {
     "ename": "TypeError",
     "evalue": "'tuple' object does not support item assignment",
     "output_type": "error",
     "traceback": [
      "\u001b[1;31m---------------------------------------------------------------------------\u001b[0m",
      "\u001b[1;31mTypeError\u001b[0m                                 Traceback (most recent call last)",
      "\u001b[1;32m<ipython-input-72-49a73ee00e67>\u001b[0m in \u001b[0;36m<module>\u001b[1;34m\u001b[0m\n\u001b[0;32m      1\u001b[0m \u001b[0mTuple\u001b[0m\u001b[1;33m=\u001b[0m\u001b[1;33m(\u001b[0m\u001b[1;36m1\u001b[0m\u001b[1;33m,\u001b[0m\u001b[1;36m2\u001b[0m\u001b[1;33m,\u001b[0m\u001b[1;36m3\u001b[0m\u001b[1;33m,\u001b[0m\u001b[1;36m4\u001b[0m\u001b[1;33m)\u001b[0m\u001b[1;33m\u001b[0m\u001b[1;33m\u001b[0m\u001b[0m\n\u001b[0;32m      2\u001b[0m \u001b[1;32mfor\u001b[0m \u001b[0mi\u001b[0m \u001b[1;32min\u001b[0m \u001b[0mrange\u001b[0m\u001b[1;33m(\u001b[0m\u001b[0mlen\u001b[0m\u001b[1;33m(\u001b[0m\u001b[0mTuple\u001b[0m\u001b[1;33m)\u001b[0m\u001b[1;33m)\u001b[0m\u001b[1;33m:\u001b[0m\u001b[1;33m\u001b[0m\u001b[1;33m\u001b[0m\u001b[0m\n\u001b[1;32m----> 3\u001b[1;33m     \u001b[0mTuple\u001b[0m\u001b[1;33m[\u001b[0m\u001b[0mi\u001b[0m\u001b[1;33m]\u001b[0m\u001b[1;33m=\u001b[0m\u001b[0mTuple\u001b[0m\u001b[1;33m[\u001b[0m\u001b[0mi\u001b[0m\u001b[1;33m]\u001b[0m\u001b[1;33m*\u001b[0m\u001b[1;36m2\u001b[0m\u001b[1;33m\u001b[0m\u001b[1;33m\u001b[0m\u001b[0m\n\u001b[0m",
      "\u001b[1;31mTypeError\u001b[0m: 'tuple' object does not support item assignment"
     ]
    }
   ],
   "source": [
    "Tuple=[1,2,3,4]\n",
    "for i in range(len(Tuple)):\n",
    "    Tuple[i]=Tuple[i]*2"
   ]
  },
  {
   "cell_type": "code",
   "execution_count": null,
   "metadata": {},
   "outputs": [],
   "source": []
  },
  {
   "cell_type": "code",
   "execution_count": null,
   "metadata": {},
   "outputs": [],
   "source": []
  },
  {
   "cell_type": "markdown",
   "metadata": {},
   "source": [
    "# How to creat matrix n*m"
   ]
  },
  {
   "cell_type": "code",
   "execution_count": 70,
   "metadata": {},
   "outputs": [],
   "source": [
    "import random\n",
    "m=2\n",
    "n=3\n",
    "matrix=[[random.randint(100,200) for column in range(m)] for row in range(n)]"
   ]
  },
  {
   "cell_type": "code",
   "execution_count": 71,
   "metadata": {},
   "outputs": [
    {
     "data": {
      "text/plain": [
       "[[121, 133], [118, 111], [114, 200]]"
      ]
     },
     "execution_count": 71,
     "metadata": {},
     "output_type": "execute_result"
    }
   ],
   "source": [
    "matrix"
   ]
  },
  {
   "cell_type": "code",
   "execution_count": null,
   "metadata": {},
   "outputs": [],
   "source": []
  },
  {
   "cell_type": "code",
   "execution_count": null,
   "metadata": {},
   "outputs": [],
   "source": []
  },
  {
   "cell_type": "code",
   "execution_count": null,
   "metadata": {},
   "outputs": [],
   "source": []
  }
 ],
 "metadata": {
  "kernelspec": {
   "display_name": "Python 3",
   "language": "python",
   "name": "python3"
  },
  "language_info": {
   "codemirror_mode": {
    "name": "ipython",
    "version": 3
   },
   "file_extension": ".py",
   "mimetype": "text/x-python",
   "name": "python",
   "nbconvert_exporter": "python",
   "pygments_lexer": "ipython3",
   "version": "3.8.5"
  }
 },
 "nbformat": 4,
 "nbformat_minor": 4
}
