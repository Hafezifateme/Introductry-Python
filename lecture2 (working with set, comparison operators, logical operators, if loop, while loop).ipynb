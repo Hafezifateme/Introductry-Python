{
 "cells": [
  {
   "cell_type": "markdown",
   "metadata": {},
   "source": [
    "<div class=\"alert alert-info\">\n",
    "    <h1 align=\"center\">introductry python</h1> \n",
    "    <h3 align=\"center\"> lecture 2(Winter 2023)</h3>\n",
    "    <h5 align=\"center\">Fatemeh Hafezianzade [IP2023]</h5>\n",
    "</div>"
   ]
  },
  {
   "cell_type": "markdown",
   "metadata": {},
   "source": [
    "# How to work with set:\n",
    "\n",
    "X = set('spam')                           $ #Make a set out of a sequence$ \n",
    "Y = {'h', 'a', 'm'}                       $ #Make a set with set literals$\n",
    "\n",
    "\n",
    "\n",
    "X, Y\n",
    "\n",
    "X & Y\n",
    "\n",
    "X | Y\n",
    "\n",
    "X - Y"
   ]
  },
  {
   "cell_type": "code",
   "execution_count": null,
   "metadata": {},
   "outputs": [],
   "source": [
    "X={1,2,3,4,5}\n",
    "Y={2,3,6,7,8}"
   ]
  },
  {
   "cell_type": "code",
   "execution_count": null,
   "metadata": {},
   "outputs": [],
   "source": [
    "X|Y"
   ]
  },
  {
   "cell_type": "code",
   "execution_count": null,
   "metadata": {},
   "outputs": [],
   "source": [
    "X&Y"
   ]
  },
  {
   "cell_type": "code",
   "execution_count": null,
   "metadata": {},
   "outputs": [],
   "source": [
    "X-Y"
   ]
  },
  {
   "cell_type": "code",
   "execution_count": null,
   "metadata": {},
   "outputs": [],
   "source": [
    "X=set('Water')\n",
    "print(X)"
   ]
  },
  {
   "cell_type": "markdown",
   "metadata": {},
   "source": [
    "# comparison operators\n",
    "\n",
    "###### > , < ,  <=  , ==,  !=\n",
    "###### >= , = , =!     are wrong\n",
    "\n",
    "\n",
    "### How to work with boolean\n",
    "\n",
    "x=10\n",
    "y=13\n",
    "\n",
    "x>y   ? \n",
    "\n",
    "\n",
    "   \n",
    "\n",
    "\n"
   ]
  },
  {
   "cell_type": "code",
   "execution_count": null,
   "metadata": {},
   "outputs": [],
   "source": [
    "x=1\n",
    "y=2\n",
    "print(x==y)"
   ]
  },
  {
   "cell_type": "code",
   "execution_count": null,
   "metadata": {},
   "outputs": [],
   "source": [
    "x=1\n",
    "y=2\n",
    "if x!=y:\n",
    "    print(\"barabar nistan!\")\n",
    "    x+=1\n",
    "print(x)    "
   ]
  },
  {
   "cell_type": "markdown",
   "metadata": {},
   "source": [
    "# if      / elif/         else\n",
    "\n",
    "1. if   condition=True:\n",
    "\n",
    "\n",
    "        sth done\n",
    "2. elif   condition=True:\n",
    "\n",
    "\n",
    "        sth done\n",
    "\n",
    "3. elif   condition=True:\n",
    "\n",
    "\n",
    "        sth done\n",
    "        \n",
    "        \n",
    "        \n",
    ".\n",
    ".\n",
    ".\n",
    "\n",
    "\n",
    "$n:$ else:\n",
    "    \n",
    "    \n",
    "    sth done"
   ]
  },
  {
   "cell_type": "code",
   "execution_count": null,
   "metadata": {},
   "outputs": [],
   "source": [
    "x=10\n",
    "if x%2==0:\n",
    "    print(\"X bar 2 bakhshpazir ast.\")\n",
    "    \n",
    "if x%3!=0:\n",
    "    print(\"X bar 3 bakhshpazir nist.\")"
   ]
  },
  {
   "cell_type": "code",
   "execution_count": null,
   "metadata": {},
   "outputs": [],
   "source": [
    "x=10\n",
    "if x%2==0:\n",
    "    print(\"X bar 2 bakhshpazir ast.\")\n",
    "    \n",
    "else:\n",
    "    print(\"X bar 2 bakhshpazir nist.\")"
   ]
  },
  {
   "cell_type": "code",
   "execution_count": null,
   "metadata": {},
   "outputs": [],
   "source": [
    "name_user1=input(\"user1, What is your name?\")\n",
    "name_user2=input(\"user2, What is your name?\")\n",
    "\n",
    "c1=input(f\"{name_user1} rock,paper,scissor?\")\n",
    "c2=input(f\"{name_user2} rock,paper,scissor?\")\n",
    "\n",
    "if c1==c2:\n",
    "    print(\"It's a tie!\")\n",
    "    \n",
    "elif c1==\"rock\":\n",
    "    if c2==\"paper\":\n",
    "        print(f\"{name_user2} is winner\")\n",
    "    elif c2==\"scissor\":\n",
    "        print(f\"{name_user1} is winner\")\n",
    "    \n",
    "    \n",
    "    \n",
    "elif  c1==\"paper\": \n",
    "    if c2==\"scissor\":\n",
    "        print(f\"{name_user2} is winner\")\n",
    "    elif c2==\"rock\":\n",
    "        print(f\"{name_user1} is winner\")\n",
    "\n",
    "elif c1==\"scissor\":\n",
    "    if c2==\"rock\":\n",
    "        print(f\"{name_user2} is winner\")\n",
    "    elif c2==\"paper\":\n",
    "        print(f\"{name_user1} is winner\")\n",
    "\n",
    "\n",
    "else:\n",
    "    print(\"wrong!\")\n",
    "\n",
    "\n",
    "\n"
   ]
  },
  {
   "cell_type": "markdown",
   "metadata": {},
   "source": [
    "# logical operators:\n",
    "#### and /        or /              and not❤"
   ]
  },
  {
   "cell_type": "markdown",
   "metadata": {},
   "source": [
    "if x=True and y=True\n",
    "\n",
    "if x= True or y=True\n",
    "\n",
    "if x=True and not y= False"
   ]
  },
  {
   "cell_type": "markdown",
   "metadata": {},
   "source": [
    "# while loop:\n",
    "- while condition=True:\n",
    "\n",
    "        sth done\n",
    "        \n",
    "        \n",
    "        \n",
    "        \n",
    "        \n",
    "- break\n",
    "\n",
    "\n",
    "- else:\n",
    "        \n",
    "        \n",
    "        sth done\n"
   ]
  },
  {
   "cell_type": "markdown",
   "metadata": {},
   "source": [
    "# example: lets play  --->  rock, paper, scissors"
   ]
  },
  {
   "cell_type": "code",
   "execution_count": null,
   "metadata": {},
   "outputs": [],
   "source": [
    "name_user1=input(\"user1, What is your name?\")\n",
    "name_user2=input(\"user2, What is your name?\")\n",
    "\n",
    "c1=input(f\"{name_user1} rock,paper,scissor,exit?\")\n",
    "c2=input(f\"{name_user2} rock,paper,scissor,exit?\")\n",
    "\n",
    "counter=0\n",
    "\n",
    "\n",
    "\n",
    "while counter<=4:\n",
    "    #counter+=1\n",
    "    \n",
    "    c1=input(f\"{name_user1} rock,paper,scissor,exit?\")\n",
    "    c2=input(f\"{name_user2} rock,paper,scissor,exit?\")\n",
    "\n",
    "    if c1==\"exit\" or c2==\"exit\":\n",
    "        break\n",
    "    else:\n",
    "        counter+=1\n",
    "    if c1==c2:\n",
    "        print(\"It's a tie!\")\n",
    "    \n",
    "    elif c1==\"rock\" and c2==\"paper\" :\n",
    "            print(f\"{name_user2} is winner\")\n",
    "        \n",
    "    elif c1==\"rock\" and c2==\"scissor\":\n",
    "            print(f\"{name_user1} is winner\")\n",
    "    \n",
    "    \n",
    "    \n",
    "    elif  c1==\"paper\": \n",
    "        if c2==\"scissor\":\n",
    "            print(f\"{name_user2} is winner\")\n",
    "        elif c2==\"rock\":\n",
    "            print(f\"{name_user1} is winner\")\n",
    "\n",
    "    elif c1==\"scissor\":\n",
    "        if c2==\"rock\":\n",
    "            print(f\"{name_user2} is winner\")\n",
    "        elif c2==\"paper\":\n",
    "            print(f\"{name_user1} is winner\")\n",
    "\n",
    "\n",
    "    else:\n",
    "        print(\"wrong!\")\n",
    "\n",
    "\n",
    "\n"
   ]
  },
  {
   "cell_type": "code",
   "execution_count": null,
   "metadata": {},
   "outputs": [],
   "source": [
    "name = 'Harrison'\n",
    "name[:]"
   ]
  },
  {
   "cell_type": "markdown",
   "metadata": {},
   "source": [
    "# Guess the name"
   ]
  },
  {
   "cell_type": "code",
   "execution_count": null,
   "metadata": {},
   "outputs": [],
   "source": [
    "name = 'Harrison'\n",
    "guess = input(\"So I'm thinking of person's name. Try to guess it: \")\n",
    "pos = 0\n",
    "\n",
    "while guess != name and pos < len(name):\n",
    "    print(\"Nope, that's not it! Hint: letter \", end='')\n",
    "    print(pos + 1, \"is\", name[pos] + \". \", end='')\n",
    "    guess = input(\"Guess again: \")\n",
    "    pos = pos + 1\n",
    "\n",
    "if pos == len(name) and name != guess:\n",
    "    print(\"Too bad, you couldn't get it.  The name was\", name + \".\")\n",
    "else:\n",
    "    print(\"\\nGreat, you got it in\", pos + 1,  \"guesses!\")"
   ]
  }
 ],
 "metadata": {
  "kernelspec": {
   "display_name": "Python 3",
   "language": "python",
   "name": "python3"
  },
  "language_info": {
   "codemirror_mode": {
    "name": "ipython",
    "version": 3
   },
   "file_extension": ".py",
   "mimetype": "text/x-python",
   "name": "python",
   "nbconvert_exporter": "python",
   "pygments_lexer": "ipython3",
   "version": "3.8.5"
  }
 },
 "nbformat": 4,
 "nbformat_minor": 4
}
